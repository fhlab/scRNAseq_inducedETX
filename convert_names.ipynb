{
 "cells": [
  {
   "cell_type": "code",
   "execution_count": null,
   "metadata": {},
   "outputs": [],
   "source": [
    "import numpy as np\n",
    "import pandas as pd\n",
    "import scanpy as sc\n",
    "import pybiomart\n",
    "import csv"
   ]
  },
  {
   "cell_type": "code",
   "execution_count": null,
   "metadata": {},
   "outputs": [],
   "source": [
    "annot = sc.queries.biomart_annotations(\n",
    "        \"mmusculus\",\n",
    "        [\"ensembl_gene_id\", \"external_gene_name\"],\n",
    "    ).set_index(\"ensembl_gene_id\")\n",
    "\n",
    "adata = sc.read(\"INDEX.inex.txt\")\n",
    "\n",
    "adata = adata.T\n",
    "\n",
    "adata.var[annot.columns] = annot\n",
    "pd.DataFrame(data=adata.X, index=adata.obs_names, columns=adata.var['external_gene_name'].reset_index(drop=True)).to_csv(\"INDEX.csv\")"
   ]
  }
 ],
 "metadata": {
  "kernelspec": {
   "display_name": "Python 3",
   "language": "python",
   "name": "python3"
  },
  "language_info": {
   "codemirror_mode": {
    "name": "ipython",
    "version": 3
   },
   "file_extension": ".py",
   "mimetype": "text/x-python",
   "name": "python",
   "nbconvert_exporter": "python",
   "pygments_lexer": "ipython3",
   "version": "3.8.2"
  }
 },
 "nbformat": 4,
 "nbformat_minor": 4
}
